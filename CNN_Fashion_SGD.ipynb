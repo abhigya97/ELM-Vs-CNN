{
 "cells": [
  {
   "cell_type": "code",
   "execution_count": 1,
   "metadata": {
    "colab": {
     "base_uri": "https://localhost:8080/",
     "height": 63
    },
    "colab_type": "code",
    "executionInfo": {
     "elapsed": 2226,
     "status": "ok",
     "timestamp": 1576109332396,
     "user": {
      "displayName": "Abhigya Agrawal",
      "photoUrl": "https://lh4.googleusercontent.com/-x8KfXyS8ahs/AAAAAAAAAAI/AAAAAAAAKqU/lNZd75W37gw/s64/photo.jpg",
      "userId": "17985924247479815451"
     },
     "user_tz": 300
    },
    "id": "PQQuDyUHbfJo",
    "outputId": "dd45f924-5ff8-47f3-9945-718727c11532"
   },
   "outputs": [
    {
     "name": "stderr",
     "output_type": "stream",
     "text": [
      "/Users/abhigyaurja/opt/anaconda3/lib/python3.7/site-packages/tensorflow/python/framework/dtypes.py:516: FutureWarning: Passing (type, 1) or '1type' as a synonym of type is deprecated; in a future version of numpy, it will be understood as (type, (1,)) / '(1,)type'.\n",
      "  _np_qint8 = np.dtype([(\"qint8\", np.int8, 1)])\n",
      "/Users/abhigyaurja/opt/anaconda3/lib/python3.7/site-packages/tensorflow/python/framework/dtypes.py:517: FutureWarning: Passing (type, 1) or '1type' as a synonym of type is deprecated; in a future version of numpy, it will be understood as (type, (1,)) / '(1,)type'.\n",
      "  _np_quint8 = np.dtype([(\"quint8\", np.uint8, 1)])\n",
      "/Users/abhigyaurja/opt/anaconda3/lib/python3.7/site-packages/tensorflow/python/framework/dtypes.py:518: FutureWarning: Passing (type, 1) or '1type' as a synonym of type is deprecated; in a future version of numpy, it will be understood as (type, (1,)) / '(1,)type'.\n",
      "  _np_qint16 = np.dtype([(\"qint16\", np.int16, 1)])\n",
      "/Users/abhigyaurja/opt/anaconda3/lib/python3.7/site-packages/tensorflow/python/framework/dtypes.py:519: FutureWarning: Passing (type, 1) or '1type' as a synonym of type is deprecated; in a future version of numpy, it will be understood as (type, (1,)) / '(1,)type'.\n",
      "  _np_quint16 = np.dtype([(\"quint16\", np.uint16, 1)])\n",
      "/Users/abhigyaurja/opt/anaconda3/lib/python3.7/site-packages/tensorflow/python/framework/dtypes.py:520: FutureWarning: Passing (type, 1) or '1type' as a synonym of type is deprecated; in a future version of numpy, it will be understood as (type, (1,)) / '(1,)type'.\n",
      "  _np_qint32 = np.dtype([(\"qint32\", np.int32, 1)])\n",
      "/Users/abhigyaurja/opt/anaconda3/lib/python3.7/site-packages/tensorflow/python/framework/dtypes.py:525: FutureWarning: Passing (type, 1) or '1type' as a synonym of type is deprecated; in a future version of numpy, it will be understood as (type, (1,)) / '(1,)type'.\n",
      "  np_resource = np.dtype([(\"resource\", np.ubyte, 1)])\n",
      "/Users/abhigyaurja/opt/anaconda3/lib/python3.7/site-packages/tensorboard/compat/tensorflow_stub/dtypes.py:541: FutureWarning: Passing (type, 1) or '1type' as a synonym of type is deprecated; in a future version of numpy, it will be understood as (type, (1,)) / '(1,)type'.\n",
      "  _np_qint8 = np.dtype([(\"qint8\", np.int8, 1)])\n",
      "/Users/abhigyaurja/opt/anaconda3/lib/python3.7/site-packages/tensorboard/compat/tensorflow_stub/dtypes.py:542: FutureWarning: Passing (type, 1) or '1type' as a synonym of type is deprecated; in a future version of numpy, it will be understood as (type, (1,)) / '(1,)type'.\n",
      "  _np_quint8 = np.dtype([(\"quint8\", np.uint8, 1)])\n",
      "/Users/abhigyaurja/opt/anaconda3/lib/python3.7/site-packages/tensorboard/compat/tensorflow_stub/dtypes.py:543: FutureWarning: Passing (type, 1) or '1type' as a synonym of type is deprecated; in a future version of numpy, it will be understood as (type, (1,)) / '(1,)type'.\n",
      "  _np_qint16 = np.dtype([(\"qint16\", np.int16, 1)])\n",
      "/Users/abhigyaurja/opt/anaconda3/lib/python3.7/site-packages/tensorboard/compat/tensorflow_stub/dtypes.py:544: FutureWarning: Passing (type, 1) or '1type' as a synonym of type is deprecated; in a future version of numpy, it will be understood as (type, (1,)) / '(1,)type'.\n",
      "  _np_quint16 = np.dtype([(\"quint16\", np.uint16, 1)])\n",
      "/Users/abhigyaurja/opt/anaconda3/lib/python3.7/site-packages/tensorboard/compat/tensorflow_stub/dtypes.py:545: FutureWarning: Passing (type, 1) or '1type' as a synonym of type is deprecated; in a future version of numpy, it will be understood as (type, (1,)) / '(1,)type'.\n",
      "  _np_qint32 = np.dtype([(\"qint32\", np.int32, 1)])\n",
      "/Users/abhigyaurja/opt/anaconda3/lib/python3.7/site-packages/tensorboard/compat/tensorflow_stub/dtypes.py:550: FutureWarning: Passing (type, 1) or '1type' as a synonym of type is deprecated; in a future version of numpy, it will be understood as (type, (1,)) / '(1,)type'.\n",
      "  np_resource = np.dtype([(\"resource\", np.ubyte, 1)])\n"
     ]
    }
   ],
   "source": [
    "import numpy as np\n",
    "import tensorflow as tf\n",
    "import time\n",
    "import matplotlib.pyplot as plt"
   ]
  },
  {
   "cell_type": "code",
   "execution_count": 2,
   "metadata": {
    "colab": {},
    "colab_type": "code",
    "id": "RROmGmqMbfJt"
   },
   "outputs": [],
   "source": [
    "time0 = time.time()"
   ]
  },
  {
   "cell_type": "code",
   "execution_count": 3,
   "metadata": {
    "colab": {},
    "colab_type": "code",
    "id": "UNY7dFwMbfJw"
   },
   "outputs": [],
   "source": [
    "#Getting the Data\n",
    "(x_train,Y_train),(x_test,Y_test) = tf.keras.datasets.fashion_mnist.load_data()"
   ]
  },
  {
   "cell_type": "markdown",
   "metadata": {
    "colab_type": "text",
    "id": "Q0MDMPWpbfJy"
   },
   "source": [
    "# Processing the Data"
   ]
  },
  {
   "cell_type": "code",
   "execution_count": 4,
   "metadata": {
    "colab": {},
    "colab_type": "code",
    "id": "870DZe5XbfJz"
   },
   "outputs": [],
   "source": [
    "x_train = x_train.astype('float32') / 255\n",
    "x_test = x_test.astype('float32') / 255"
   ]
  },
  {
   "cell_type": "code",
   "execution_count": 5,
   "metadata": {
    "colab": {},
    "colab_type": "code",
    "id": "eKvWzhWMbfJ1"
   },
   "outputs": [],
   "source": [
    "x_train = x_train.reshape(x_train.shape[0],x_train.shape[1],x_train.shape[2],1)\n",
    "Y_train = Y_train.reshape(Y_train.shape[0],1)\n",
    "\n",
    "x_test = x_test.reshape(x_test.shape[0],x_test.shape[1],x_test.shape[2],1)\n",
    "Y_test = Y_test.reshape(Y_test.shape[0],1)"
   ]
  },
  {
   "cell_type": "code",
   "execution_count": 7,
   "metadata": {},
   "outputs": [
    {
     "data": {
      "text/plain": [
       "(60000, 28, 28, 1)"
      ]
     },
     "execution_count": 7,
     "metadata": {},
     "output_type": "execute_result"
    }
   ],
   "source": [
    "x_train.shape"
   ]
  },
  {
   "cell_type": "code",
   "execution_count": 0,
   "metadata": {
    "colab": {},
    "colab_type": "code",
    "id": "oqdZtAyTbfJ3"
   },
   "outputs": [],
   "source": [
    "Classes = 10\n",
    "#Converting into One Hot Vector\n",
    "y_train = np.zeros([Y_train.shape[0], Classes])\n",
    "for i in range(Y_train.shape[0]):\n",
    "        y_train[i][Y_train[i]] = 1\n",
    "\n",
    "y_test = np.zeros([Y_test.shape[0], Classes])\n",
    "for i in range(Y_test.shape[0]):\n",
    "        y_test[i][Y_test[i]] = 1"
   ]
  },
  {
   "cell_type": "markdown",
   "metadata": {
    "colab_type": "text",
    "id": "I4A35xWsbfJ5"
   },
   "source": [
    "# Defining the Model"
   ]
  },
  {
   "cell_type": "code",
   "execution_count": 7,
   "metadata": {
    "colab": {
     "base_uri": "https://localhost:8080/",
     "height": 564
    },
    "colab_type": "code",
    "executionInfo": {
     "elapsed": 3034,
     "status": "ok",
     "timestamp": 1576109333234,
     "user": {
      "displayName": "Abhigya Agrawal",
      "photoUrl": "https://lh4.googleusercontent.com/-x8KfXyS8ahs/AAAAAAAAAAI/AAAAAAAAKqU/lNZd75W37gw/s64/photo.jpg",
      "userId": "17985924247479815451"
     },
     "user_tz": 300
    },
    "id": "cuMJIdxvbfJ5",
    "outputId": "43124a01-bc2b-4f7f-d0d6-304e88d38bca"
   },
   "outputs": [
    {
     "name": "stdout",
     "output_type": "stream",
     "text": [
      "WARNING:tensorflow:From /usr/local/lib/python3.6/dist-packages/tensorflow_core/python/ops/resource_variable_ops.py:1630: calling BaseResourceVariable.__init__ (from tensorflow.python.ops.resource_variable_ops) with constraint is deprecated and will be removed in a future version.\n",
      "Instructions for updating:\n",
      "If using Keras pass *_constraint arguments to layers.\n",
      "Model: \"sequential\"\n",
      "_________________________________________________________________\n",
      "Layer (type)                 Output Shape              Param #   \n",
      "=================================================================\n",
      "conv2d (Conv2D)              (None, 28, 28, 32)        832       \n",
      "_________________________________________________________________\n",
      "max_pooling2d (MaxPooling2D) (None, 14, 14, 32)        0         \n",
      "_________________________________________________________________\n",
      "dropout (Dropout)            (None, 14, 14, 32)        0         \n",
      "_________________________________________________________________\n",
      "conv2d_1 (Conv2D)            (None, 14, 14, 64)        51264     \n",
      "_________________________________________________________________\n",
      "max_pooling2d_1 (MaxPooling2 (None, 7, 7, 64)          0         \n",
      "_________________________________________________________________\n",
      "dropout_1 (Dropout)          (None, 7, 7, 64)          0         \n",
      "_________________________________________________________________\n",
      "flatten (Flatten)            (None, 3136)              0         \n",
      "_________________________________________________________________\n",
      "dense (Dense)                (None, 512)               1606144   \n",
      "_________________________________________________________________\n",
      "dropout_2 (Dropout)          (None, 512)               0         \n",
      "_________________________________________________________________\n",
      "dense_1 (Dense)              (None, 10)                5130      \n",
      "=================================================================\n",
      "Total params: 1,663,370\n",
      "Trainable params: 1,663,370\n",
      "Non-trainable params: 0\n",
      "_________________________________________________________________\n"
     ]
    }
   ],
   "source": [
    "cnnmodel = tf.keras.Sequential()\n",
    "#Defining the input shape in the first layer of the model\n",
    "\n",
    "cnnmodel.add(tf.keras.layers.Conv2D(filters=32, kernel_size=5, padding='same', activation='relu', input_shape=(28,28,1))) \n",
    "#Maxpooling\n",
    "cnnmodel.add(tf.keras.layers.MaxPooling2D(pool_size=2))\n",
    "#Adding Dropout\n",
    "cnnmodel.add(tf.keras.layers.Dropout(0.25))\n",
    "#Adding more layers\n",
    "cnnmodel.add(tf.keras.layers.Conv2D(filters=64, kernel_size=5, padding='same', activation='relu'))\n",
    "cnnmodel.add(tf.keras.layers.MaxPooling2D(pool_size=2))\n",
    "cnnmodel.add(tf.keras.layers.Dropout(0.25))\n",
    "#Adding fully connected layers\n",
    "cnnmodel.add(tf.keras.layers.Flatten())\n",
    "cnnmodel.add(tf.keras.layers.Dense(512, activation='relu'))\n",
    "cnnmodel.add(tf.keras.layers.Dropout(0.5))\n",
    "#Final output\n",
    "cnnmodel.add(tf.keras.layers.Dense(10, activation='softmax'))\n",
    "\n",
    "#Model Summary\n",
    "cnnmodel.summary()"
   ]
  },
  {
   "cell_type": "code",
   "execution_count": 0,
   "metadata": {
    "colab": {},
    "colab_type": "code",
    "id": "uQ0UgWHCbfJ8"
   },
   "outputs": [],
   "source": [
    "#Compiling the model and defining loss and optimizer\n",
    "cnnmodel.compile(loss='categorical_crossentropy', optimizer='sgd', metrics=['accuracy'])"
   ]
  },
  {
   "cell_type": "markdown",
   "metadata": {
    "colab_type": "text",
    "id": "3f3Gk8T5bfJ9"
   },
   "source": [
    "# Training "
   ]
  },
  {
   "cell_type": "code",
   "execution_count": 9,
   "metadata": {
    "colab": {
     "base_uri": "https://localhost:8080/",
     "height": 1000
    },
    "colab_type": "code",
    "executionInfo": {
     "elapsed": 251433,
     "status": "ok",
     "timestamp": 1576109581646,
     "user": {
      "displayName": "Abhigya Agrawal",
      "photoUrl": "https://lh4.googleusercontent.com/-x8KfXyS8ahs/AAAAAAAAAAI/AAAAAAAAKqU/lNZd75W37gw/s64/photo.jpg",
      "userId": "17985924247479815451"
     },
     "user_tz": 300
    },
    "id": "ntwIUa76bfJ9",
    "outputId": "4149590a-9c26-4005-e33e-3348decbe096"
   },
   "outputs": [
    {
     "name": "stdout",
     "output_type": "stream",
     "text": [
      "Train on 60000 samples\n",
      "Epoch 1/30\n",
      "60000/60000 [==============================] - 10s 161us/sample - loss: 1.0593 - acc: 0.6102\n",
      "Epoch 2/30\n",
      "60000/60000 [==============================] - 8s 137us/sample - loss: 0.7021 - acc: 0.7382\n",
      "Epoch 3/30\n",
      "60000/60000 [==============================] - 8s 137us/sample - loss: 0.6222 - acc: 0.7695\n",
      "Epoch 4/30\n",
      "60000/60000 [==============================] - 8s 138us/sample - loss: 0.5634 - acc: 0.7910\n",
      "Epoch 5/30\n",
      "60000/60000 [==============================] - 8s 138us/sample - loss: 0.5258 - acc: 0.8058\n",
      "Epoch 6/30\n",
      "60000/60000 [==============================] - 8s 137us/sample - loss: 0.4953 - acc: 0.8180\n",
      "Epoch 7/30\n",
      "60000/60000 [==============================] - 8s 137us/sample - loss: 0.4754 - acc: 0.8253\n",
      "Epoch 8/30\n",
      "60000/60000 [==============================] - 8s 137us/sample - loss: 0.4544 - acc: 0.8346\n",
      "Epoch 9/30\n",
      "60000/60000 [==============================] - 8s 136us/sample - loss: 0.4405 - acc: 0.8378\n",
      "Epoch 10/30\n",
      "60000/60000 [==============================] - 8s 136us/sample - loss: 0.4251 - acc: 0.8468\n",
      "Epoch 11/30\n",
      "60000/60000 [==============================] - 8s 142us/sample - loss: 0.4161 - acc: 0.8489\n",
      "Epoch 12/30\n",
      "60000/60000 [==============================] - 8s 139us/sample - loss: 0.4044 - acc: 0.8526\n",
      "Epoch 13/30\n",
      "60000/60000 [==============================] - 8s 137us/sample - loss: 0.3949 - acc: 0.8563\n",
      "Epoch 14/30\n",
      "60000/60000 [==============================] - 8s 136us/sample - loss: 0.3872 - acc: 0.8583\n",
      "Epoch 15/30\n",
      "60000/60000 [==============================] - 8s 136us/sample - loss: 0.3793 - acc: 0.8629\n",
      "Epoch 16/30\n",
      "60000/60000 [==============================] - 8s 136us/sample - loss: 0.3703 - acc: 0.8655\n",
      "Epoch 17/30\n",
      "60000/60000 [==============================] - 8s 136us/sample - loss: 0.3647 - acc: 0.8694\n",
      "Epoch 18/30\n",
      "60000/60000 [==============================] - 8s 138us/sample - loss: 0.3594 - acc: 0.8691\n",
      "Epoch 19/30\n",
      "60000/60000 [==============================] - 8s 136us/sample - loss: 0.3526 - acc: 0.8717\n",
      "Epoch 20/30\n",
      "60000/60000 [==============================] - 8s 135us/sample - loss: 0.3472 - acc: 0.8747\n",
      "Epoch 21/30\n",
      "60000/60000 [==============================] - 8s 136us/sample - loss: 0.3423 - acc: 0.8750\n",
      "Epoch 22/30\n",
      "60000/60000 [==============================] - 8s 135us/sample - loss: 0.3384 - acc: 0.8784\n",
      "Epoch 23/30\n",
      "60000/60000 [==============================] - 8s 135us/sample - loss: 0.3343 - acc: 0.8789\n",
      "Epoch 24/30\n",
      "60000/60000 [==============================] - 8s 135us/sample - loss: 0.3285 - acc: 0.8806\n",
      "Epoch 25/30\n",
      "60000/60000 [==============================] - 8s 136us/sample - loss: 0.3226 - acc: 0.8824\n",
      "Epoch 26/30\n",
      "60000/60000 [==============================] - 8s 137us/sample - loss: 0.3205 - acc: 0.8834\n",
      "Epoch 27/30\n",
      "60000/60000 [==============================] - 8s 136us/sample - loss: 0.3178 - acc: 0.8835\n",
      "Epoch 28/30\n",
      "60000/60000 [==============================] - 8s 138us/sample - loss: 0.3120 - acc: 0.8862\n",
      "Epoch 29/30\n",
      "60000/60000 [==============================] - 8s 136us/sample - loss: 0.3107 - acc: 0.8871\n",
      "Epoch 30/30\n",
      "60000/60000 [==============================] - 8s 136us/sample - loss: 0.3078 - acc: 0.8876\n"
     ]
    },
    {
     "data": {
      "text/plain": [
       "<tensorflow.python.keras.callbacks.History at 0x7f05f546b470>"
      ]
     },
     "execution_count": 9,
     "metadata": {
      "tags": []
     },
     "output_type": "execute_result"
    }
   ],
   "source": [
    "#Training the model \n",
    "cnnmodel.fit(x_train, y_train, batch_size=64, epochs=30)"
   ]
  },
  {
   "cell_type": "code",
   "execution_count": 10,
   "metadata": {
    "colab": {
     "base_uri": "https://localhost:8080/",
     "height": 51
    },
    "colab_type": "code",
    "executionInfo": {
     "elapsed": 259209,
     "status": "ok",
     "timestamp": 1576109589429,
     "user": {
      "displayName": "Abhigya Agrawal",
      "photoUrl": "https://lh4.googleusercontent.com/-x8KfXyS8ahs/AAAAAAAAAAI/AAAAAAAAKqU/lNZd75W37gw/s64/photo.jpg",
      "userId": "17985924247479815451"
     },
     "user_tz": 300
    },
    "id": "pc-tWT1IbfJ_",
    "outputId": "32e2bf61-174f-440d-abd2-a9c4b59a10ec"
   },
   "outputs": [
    {
     "name": "stdout",
     "output_type": "stream",
     "text": [
      "Test accuracy is : 89.49\n",
      "Train accuracy is : 90.89\n"
     ]
    }
   ],
   "source": [
    "#Evaluating the model\n",
    "accuracy_test = cnnmodel.evaluate(x_test, y_test, verbose=0)\n",
    "accuracy_train = cnnmodel.evaluate(x_train, y_train, verbose=0)\n",
    "\n",
    "#Printing test accuracy\n",
    "print('Test accuracy is :', '{:.2f}'.format(accuracy_test[1]*100))\n",
    "#Printing training accuracy\n",
    "print('Train accuracy is :', '{:.2f}'.format(accuracy_train[1]*100))"
   ]
  },
  {
   "cell_type": "code",
   "execution_count": 0,
   "metadata": {
    "colab": {},
    "colab_type": "code",
    "id": "dpqHzI30bfKB"
   },
   "outputs": [],
   "source": [
    "time1 = time.time()"
   ]
  },
  {
   "cell_type": "code",
   "execution_count": 12,
   "metadata": {
    "colab": {
     "base_uri": "https://localhost:8080/",
     "height": 34
    },
    "colab_type": "code",
    "executionInfo": {
     "elapsed": 259201,
     "status": "ok",
     "timestamp": 1576109589431,
     "user": {
      "displayName": "Abhigya Agrawal",
      "photoUrl": "https://lh4.googleusercontent.com/-x8KfXyS8ahs/AAAAAAAAAAI/AAAAAAAAKqU/lNZd75W37gw/s64/photo.jpg",
      "userId": "17985924247479815451"
     },
     "user_tz": 300
    },
    "id": "oqwPu22UbfKC",
    "outputId": "f0e58b56-9665-4636-cf5a-c16546b1ee2a"
   },
   "outputs": [
    {
     "name": "stdout",
     "output_type": "stream",
     "text": [
      "Time taken =  4.283 minutes\n"
     ]
    }
   ],
   "source": [
    "print(\"Time taken = \", '{:.3f}'.format((time1-time0)/60), \"minutes\")"
   ]
  },
  {
   "cell_type": "markdown",
   "metadata": {
    "colab_type": "text",
    "id": "FO_K0SFnbfKE"
   },
   "source": [
    "# Visualizing Predictions"
   ]
  },
  {
   "cell_type": "code",
   "execution_count": 0,
   "metadata": {
    "colab": {},
    "colab_type": "code",
    "id": "dgiH87HIbfKE"
   },
   "outputs": [],
   "source": [
    "pred = cnnmodel.predict(x_test)"
   ]
  },
  {
   "cell_type": "code",
   "execution_count": 0,
   "metadata": {
    "colab": {},
    "colab_type": "code",
    "id": "kZteP9jSbfKF"
   },
   "outputs": [],
   "source": [
    "Predicted = np.zeros(pred.shape[0])\n",
    "for i in range(pred.shape[0]):\n",
    "    Predicted[i] = np.argmax(pred[i][:])\n",
    "\n",
    "Expected = np.zeros(y_test.shape[0])\n",
    "for i in range(y_test.shape[0]):\n",
    "    Expected[i] = np.argmax(y_test[i][:])\n",
    "    \n",
    "for i in range(pred.shape[0]):\n",
    "    if Predicted[i] == Expected[i]:\n",
    "        same = i\n",
    "    else:\n",
    "        diff = i\n",
    "        break    "
   ]
  },
  {
   "cell_type": "code",
   "execution_count": 0,
   "metadata": {
    "colab": {},
    "colab_type": "code",
    "id": "muAMLC9abfKF"
   },
   "outputs": [],
   "source": [
    "test_image = x_test.reshape(x_test.shape[0], x_test.shape[1],x_test.shape[2])"
   ]
  },
  {
   "cell_type": "code",
   "execution_count": 16,
   "metadata": {
    "colab": {
     "base_uri": "https://localhost:8080/",
     "height": 316
    },
    "colab_type": "code",
    "executionInfo": {
     "elapsed": 260290,
     "status": "ok",
     "timestamp": 1576109590540,
     "user": {
      "displayName": "Abhigya Agrawal",
      "photoUrl": "https://lh4.googleusercontent.com/-x8KfXyS8ahs/AAAAAAAAAAI/AAAAAAAAKqU/lNZd75W37gw/s64/photo.jpg",
      "userId": "17985924247479815451"
     },
     "user_tz": 300
    },
    "id": "5SFETyICbfKG",
    "outputId": "e5d8fb81-d810-4f29-eab7-3fda2c1c44ea"
   },
   "outputs": [
    {
     "name": "stdout",
     "output_type": "stream",
     "text": [
      "Predicted =  7.0\n",
      "Expected =  7.0\n"
     ]
    },
    {
     "data": {
      "text/plain": [
       "<matplotlib.image.AxesImage at 0x7f05f04dd518>"
      ]
     },
     "execution_count": 16,
     "metadata": {
      "tags": []
     },
     "output_type": "execute_result"
    },
    {
     "data": {
      "image/png": "[encoded data removed]",
      "text/plain": [
       "<Figure size 432x288 with 1 Axes>"
      ]
     },
     "metadata": {
      "tags": []
     },
     "output_type": "display_data"
    }
   ],
   "source": [
    "print(\"Predicted = \", Predicted[same])\n",
    "print(\"Expected = \", Expected[same])\n",
    "plt.imshow(test_image[same], cmap = 'gray')"
   ]
  },
  {
   "cell_type": "code",
   "execution_count": 17,
   "metadata": {
    "colab": {
     "base_uri": "https://localhost:8080/",
     "height": 316
    },
    "colab_type": "code",
    "executionInfo": {
     "elapsed": 260285,
     "status": "ok",
     "timestamp": 1576109590541,
     "user": {
      "displayName": "Abhigya Agrawal",
      "photoUrl": "https://lh4.googleusercontent.com/-x8KfXyS8ahs/AAAAAAAAAAI/AAAAAAAAKqU/lNZd75W37gw/s64/photo.jpg",
      "userId": "17985924247479815451"
     },
     "user_tz": 300
    },
    "id": "V1HRoR5ubfKH",
    "outputId": "1b9f992d-7019-432d-f920-c1b424ae33eb"
   },
   "outputs": [
    {
     "name": "stdout",
     "output_type": "stream",
     "text": [
      "Predicted =  5.0\n",
      "Expected =  9.0\n"
     ]
    },
    {
     "data": {
      "text/plain": [
       "<matplotlib.image.AxesImage at 0x7f05f0014f60>"
      ]
     },
     "execution_count": 17,
     "metadata": {
      "tags": []
     },
     "output_type": "execute_result"
    },
    {
     "data": {
      "image/png": "[encoded data removed]",
      "text/plain": [
       "<Figure size 432x288 with 1 Axes>"
      ]
     },
     "metadata": {
      "tags": []
     },
     "output_type": "display_data"
    }
   ],
   "source": [
    "print(\"Predicted = \", Predicted[diff])\n",
    "print(\"Expected = \", Expected[diff])\n",
    "plt.imshow(test_image[diff], cmap = 'gray')"
   ]
  }
 ],
 "metadata": {
  "accelerator": "GPU",
  "colab": {
   "collapsed_sections": [],
   "name": "CNN_Fashion_SGD.ipynb",
   "provenance": []
  },
  "kernelspec": {
   "display_name": "Python 3",
   "language": "python",
   "name": "python3"
  },
  "language_info": {
   "codemirror_mode": {
    "name": "ipython",
    "version": 3
   },
   "file_extension": ".py",
   "mimetype": "text/x-python",
   "name": "python",
   "nbconvert_exporter": "python",
   "pygments_lexer": "ipython3",
   "version": "3.7.4"
  }
 },
 "nbformat": 4,
 "nbformat_minor": 1
}
