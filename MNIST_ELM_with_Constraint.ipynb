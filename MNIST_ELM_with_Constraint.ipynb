{
 "cells": [
  {
   "cell_type": "code",
   "execution_count": 1,
   "metadata": {},
   "outputs": [],
   "source": [
    "import tensorflow as tf\n",
    "import numpy as np \n",
    "import matplotlib.pyplot as plt\n",
    "import time"
   ]
  },
  {
   "cell_type": "code",
   "execution_count": 2,
   "metadata": {},
   "outputs": [],
   "source": [
    "time0 = time.time()"
   ]
  },
  {
   "cell_type": "code",
   "execution_count": 3,
   "metadata": {},
   "outputs": [],
   "source": [
    "#Getting the Data\n",
    "(x_train,Y_train),(x_test,Y_test) = tf.keras.datasets.mnist.load_data()"
   ]
  },
  {
   "cell_type": "markdown",
   "metadata": {},
   "source": [
    "# Plotting an image"
   ]
  },
  {
   "cell_type": "code",
   "execution_count": 4,
   "metadata": {},
   "outputs": [
    {
     "data": {
      "text/plain": [
       "<matplotlib.image.AxesImage at 0x642742850>"
      ]
     },
     "execution_count": 4,
     "metadata": {},
     "output_type": "execute_result"
    },
    {
     "data": {
      "image/png": "[encoded data removed]",
      "text/plain": [
       "<Figure size 432x288 with 1 Axes>"
      ]
     },
     "metadata": {
      "needs_background": "light"
     },
     "output_type": "display_data"
    }
   ],
   "source": [
    "plt.imshow(x_train[5678])"
   ]
  },
  {
   "cell_type": "markdown",
   "metadata": {},
   "source": [
    "# Processing the Data"
   ]
  },
  {
   "cell_type": "code",
   "execution_count": 5,
   "metadata": {},
   "outputs": [],
   "source": [
    "x_train = x_train.astype('float32') / 255\n",
    "x_test = x_test.astype('float32') / 255"
   ]
  },
  {
   "cell_type": "code",
   "execution_count": 6,
   "metadata": {},
   "outputs": [],
   "source": [
    "x_train = x_train.reshape(x_train.shape[0],x_train.shape[1]*x_train.shape[2])\n",
    "Y_train = Y_train.reshape(Y_train.shape[0],1)\n",
    "\n",
    "x_test = x_test.reshape(x_test.shape[0],x_test.shape[1]*x_test.shape[2])\n",
    "Y_test = Y_test.reshape(Y_test.shape[0],1)"
   ]
  },
  {
   "cell_type": "code",
   "execution_count": 7,
   "metadata": {},
   "outputs": [],
   "source": [
    "Classes = 10\n",
    "#Converting into One Hot Vector\n",
    "y_train = np.zeros([Y_train.shape[0], Classes])\n",
    "for i in range(Y_train.shape[0]):\n",
    "        y_train[i][Y_train[i]] = 1\n",
    "\n",
    "y_test = np.zeros([Y_test.shape[0], Classes])\n",
    "for i in range(Y_test.shape[0]):\n",
    "        y_test[i][Y_test[i]] = 1"
   ]
  },
  {
   "cell_type": "markdown",
   "metadata": {},
   "source": [
    "# Defining the Network "
   ]
  },
  {
   "cell_type": "code",
   "execution_count": 8,
   "metadata": {},
   "outputs": [],
   "source": [
    "C = 0.5"
   ]
  },
  {
   "cell_type": "code",
   "execution_count": 9,
   "metadata": {},
   "outputs": [],
   "source": [
    "Sample_Size = x_train.shape[1] # 784 \n",
    "Hidden_Nodes = 8000\n",
    "\n",
    "Win = np.random.normal(size=[Sample_Size, Hidden_Nodes])\n",
    "Bin = np.random.normal(size=Hidden_Nodes)"
   ]
  },
  {
   "cell_type": "code",
   "execution_count": 10,
   "metadata": {},
   "outputs": [
    {
     "name": "stdout",
     "output_type": "stream",
     "text": [
      "Input Weight shape:  (784, 8000)\n"
     ]
    }
   ],
   "source": [
    "print('Input Weight shape: ', Win.shape)"
   ]
  },
  {
   "cell_type": "code",
   "execution_count": 11,
   "metadata": {},
   "outputs": [],
   "source": [
    "def Fully_Connected_Layer(X):\n",
    "    fc = X @ Win\n",
    "    fc = fc + Bin\n",
    "    fc = np.maximum(fc, 0, fc) # ReLU\n",
    "    return fc"
   ]
  },
  {
   "cell_type": "code",
   "execution_count": 12,
   "metadata": {},
   "outputs": [],
   "source": [
    "X = Fully_Connected_Layer(x_train)\n",
    "#Pseudo Inverse Calculation\n",
    "#Transposing\n",
    "Xt = np.transpose(X)\n",
    "#Adding constraint \n",
    "S = Xt @ X\n",
    "S = S + (1/C)\n",
    "#Inverse Calculation\n",
    "Si = np.linalg.inv(S)\n",
    "#Getting Target \n",
    "B = Xt @ y_train"
   ]
  },
  {
   "cell_type": "code",
   "execution_count": 13,
   "metadata": {},
   "outputs": [
    {
     "name": "stdout",
     "output_type": "stream",
     "text": [
      "Output weights shape:  (8000, 10)\n"
     ]
    }
   ],
   "source": [
    "#Caluculating output weights\n",
    "Wout = Si @ B\n",
    "print('Output weights shape: ', Wout.shape)"
   ]
  },
  {
   "cell_type": "code",
   "execution_count": 14,
   "metadata": {},
   "outputs": [],
   "source": [
    "def Predict(X):\n",
    "    X = Fully_Connected_Layer(X)\n",
    "    Y = X @ Wout\n",
    "    return Y"
   ]
  },
  {
   "cell_type": "markdown",
   "metadata": {},
   "source": [
    "# Passing Testing data through the network"
   ]
  },
  {
   "cell_type": "code",
   "execution_count": 15,
   "metadata": {},
   "outputs": [],
   "source": [
    "Y = Predict(x_test)\n",
    "Y1 = Predict(x_train)\n",
    "\n",
    "#Getting Testing Accuracy\n",
    "correct = 0\n",
    "total = Y.shape[0]\n",
    "for i in range(total):\n",
    "    predicted = np.argmax(Y[i])\n",
    "    test = np.argmax(y_test[i])\n",
    "    correct = correct + (1 if predicted == test else 0)\n",
    "     \n",
    "#Getting Training Accuracy\n",
    "correct1 = 0\n",
    "total1 = Y1.shape[0]\n",
    "for i in range(total1):\n",
    "    predicted = np.argmax(Y1[i])\n",
    "    test = np.argmax(y_train[i])\n",
    "    correct1 = correct1 + (1 if predicted == test else 0)"
   ]
  },
  {
   "cell_type": "code",
   "execution_count": 16,
   "metadata": {},
   "outputs": [
    {
     "name": "stdout",
     "output_type": "stream",
     "text": [
      "Test accuracy is : 97.56\n",
      "Train accuracy is : 99.03\n"
     ]
    }
   ],
   "source": [
    "#Printing Test accuracy\n",
    "print('Test accuracy is :', '{:.2f}'.format(correct/total*100))\n",
    "#Printing training accuracy\n",
    "print('Train accuracy is :', '{:.2f}'.format(correct1/total1*100))"
   ]
  },
  {
   "cell_type": "code",
   "execution_count": 17,
   "metadata": {},
   "outputs": [],
   "source": [
    "time1 = time.time()"
   ]
  },
  {
   "cell_type": "code",
   "execution_count": 18,
   "metadata": {},
   "outputs": [
    {
     "name": "stdout",
     "output_type": "stream",
     "text": [
      "Time taken =  0.615 minutes\n"
     ]
    }
   ],
   "source": [
    "print(\"Time taken = \", '{:.3f}'.format((time1-time0)/60), \"minutes\")"
   ]
  },
  {
   "cell_type": "markdown",
   "metadata": {},
   "source": [
    "# Visualizing Predictions"
   ]
  },
  {
   "cell_type": "code",
   "execution_count": 19,
   "metadata": {},
   "outputs": [],
   "source": [
    "Predicted = np.zeros(Y.shape[0])\n",
    "for i in range(Y.shape[0]):\n",
    "    Predicted[i] = np.argmax(Y[i][:])\n",
    "\n",
    "Expected = np.zeros(y_test.shape[0])\n",
    "for i in range(y_test.shape[0]):\n",
    "    Expected[i] = np.argmax(y_test[i][:])\n",
    "    \n",
    "for i in range(Y.shape[0]):\n",
    "    if Predicted[i] == Expected[i]:\n",
    "        same = i\n",
    "    else:\n",
    "        diff = i\n",
    "        break    "
   ]
  },
  {
   "cell_type": "code",
   "execution_count": 20,
   "metadata": {},
   "outputs": [],
   "source": [
    "test_image = x_test.reshape(x_test.shape[0], 28, 28)"
   ]
  },
  {
   "cell_type": "code",
   "execution_count": 21,
   "metadata": {},
   "outputs": [
    {
     "name": "stdout",
     "output_type": "stream",
     "text": [
      "Predicted =  7.0\n",
      "Expected =  7.0\n"
     ]
    },
    {
     "data": {
      "text/plain": [
       "<matplotlib.image.AxesImage at 0x642808a90>"
      ]
     },
     "execution_count": 21,
     "metadata": {},
     "output_type": "execute_result"
    },
    {
     "data": {
      "image/png": "[encoded data removed]",
      "text/plain": [
       "<Figure size 432x288 with 1 Axes>"
      ]
     },
     "metadata": {
      "needs_background": "light"
     },
     "output_type": "display_data"
    }
   ],
   "source": [
    "print(\"Predicted = \", Predicted[same])\n",
    "print(\"Expected = \", Expected[same])\n",
    "plt.imshow(test_image[same], cmap = 'gray')"
   ]
  },
  {
   "cell_type": "code",
   "execution_count": 22,
   "metadata": {},
   "outputs": [
    {
     "name": "stdout",
     "output_type": "stream",
     "text": [
      "Predicted =  9.0\n",
      "Expected =  4.0\n"
     ]
    },
    {
     "data": {
      "text/plain": [
       "<matplotlib.image.AxesImage at 0x6928dc5d0>"
      ]
     },
     "execution_count": 22,
     "metadata": {},
     "output_type": "execute_result"
    },
    {
     "data": {
      "image/png": "[encoded data removed]",
      "text/plain": [
       "<Figure size 432x288 with 1 Axes>"
      ]
     },
     "metadata": {
      "needs_background": "light"
     },
     "output_type": "display_data"
    }
   ],
   "source": [
    "print(\"Predicted = \", Predicted[diff])\n",
    "print(\"Expected = \", Expected[diff])\n",
    "plt.imshow(test_image[diff], cmap = 'gray')"
   ]
  },
  {
   "cell_type": "markdown",
   "metadata": {},
   "source": [
    "References for understanding ELM coding was taken from:\n",
    "https://www.kaggle.com/robertbm/extreme-learning-machine-example"
   ]
  }
 ],
 "metadata": {
  "kernelspec": {
   "display_name": "Python 3",
   "language": "python",
   "name": "python3"
  },
  "language_info": {
   "codemirror_mode": {
    "name": "ipython",
    "version": 3
   },
   "file_extension": ".py",
   "mimetype": "text/x-python",
   "name": "python",
   "nbconvert_exporter": "python",
   "pygments_lexer": "ipython3",
   "version": "3.7.4"
  }
 },
 "nbformat": 4,
 "nbformat_minor": 2
}
